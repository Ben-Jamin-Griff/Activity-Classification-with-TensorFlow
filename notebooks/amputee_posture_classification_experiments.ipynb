{
  "nbformat": 4,
  "nbformat_minor": 0,
  "metadata": {
    "colab": {
      "name": "amputee_posture_classification_experiments.ipynb",
      "provenance": [],
      "collapsed_sections": []
    },
    "kernelspec": {
      "name": "python3",
      "display_name": "Python 3"
    },
    "language_info": {
      "name": "python"
    },
    "accelerator": "GPU"
  },
  "cells": [
    {
      "cell_type": "code",
      "metadata": {
        "id": "GGDPgZ-v1a9z"
      },
      "source": [
        "# FUNCTIONS\n",
        "\n",
        "#ActivityCodes (0=sedentary 1=standing 2=stepping 2.1=cycling 3.1=primary lying, 3.2=secondary lying 4=non-wear 5=travelling)\n",
        "def reassign_classes(classes):\n",
        "  for count, value in enumerate(classes):\n",
        "    if classes[count] == 2.1:\n",
        "      classes[count] = 2\n",
        "    elif classes[count] == 3.1:\n",
        "      classes[count] = 3\n",
        "    elif classes[count] == 3.2:\n",
        "      classes[count] = 3\n",
        "    elif classes[count] == 5.0:\n",
        "      classes[count] = 0\n",
        "    else:\n",
        "      continue\n",
        "  return classes\n",
        "\n",
        "# Removing non-wear because it destroys the NN\n",
        "def remove_classes(dataset, stack, class_to_remove):\n",
        "  remove_non_wear_idx = posture_classes != class_to_remove\n",
        "  stack = stack[remove_non_wear_idx]\n",
        "  dataset = dataset[remove_non_wear_idx]\n",
        "  return dataset, stack\n",
        "\n",
        "# Reshape the data for specific models\n",
        "def reshape_set(dataset, new_shape):\n",
        "  shaper = dataset.shape\n",
        "  new_shape.insert(0, shaper[0])\n",
        "  new_shape = tuple(new_shape)\n",
        "  dataset = dataset.reshape(new_shape)\n",
        "  return dataset\n",
        "\n",
        "def one_hot_data(stack):\n",
        "  unique_classes = np.unique(stack)\n",
        "  stack = tf.one_hot(stack, len(unique_classes))\n",
        "  return stack\n",
        "\n",
        "def review_class_imbalance(y_train, y_test, labels=None):\n",
        "  # Find the unique label values...\n",
        "  unique_classes_train = np.unique(y_train)\n",
        "  unique_classes_test = np.unique(y_test)\n",
        "  # Count the unique label values\n",
        "  unique_train, counts_train = np.unique(y_train, return_counts=True)\n",
        "  unique_test, counts_test = np.unique(y_test, return_counts=True)\n",
        "  try:\n",
        "    count_class_values_train = dict(zip(labels, counts_train))\n",
        "    count_class_values_test = dict(zip(labels, counts_test))\n",
        "  except:\n",
        "    count_class_values_train = dict(zip(unique_train, counts_train))\n",
        "    count_class_values_test = dict(zip(unique_test, counts_test))\n",
        "\n",
        "  print('Train Classes')\n",
        "  print(count_class_values_train)\n",
        "  print('--------------')\n",
        "  print('Test Classes')\n",
        "  print(count_class_values_test)\n",
        "  print('--------------')\n",
        "  return unique_classes_train, unique_classes_test\n",
        "\n",
        "def norm_accel_data(x):\n",
        "  \"\"\"\n",
        "  Processes accel values and returns a normalised integer (0-1).\n",
        "  \"\"\"\n",
        "  x_minimum = 0\n",
        "  x_maximum = 255\n",
        "  x_normalized = ((x - x_minimum) / (x_maximum - x_minimum))\n",
        "  return x_normalized\n",
        "\n",
        "def process_epochs(x, y=None, shuffle=False):\n",
        "  \"\"\"\n",
        "  Processing epochs\n",
        "  \"\"\"\n",
        "  print(\"Creating training data...\")\n",
        "  # Normalize the acceleration data\n",
        "  x = norm_accel_data(x)\n",
        "  # Convert data to a tensor\n",
        "  data = tf.constant(x)\n",
        "  # If the data is a training dataset, we shuffle it\n",
        "  if shuffle:\n",
        "    indices = tf.range(start=0, limit=tf.shape(data)[0], dtype=tf.int32)\n",
        "    shuffled_indices = tf.random.shuffle(indices)\n",
        "    shuffled_x = tf.gather(x, shuffled_indices)\n",
        "    shuffled_y = tf.gather(y, shuffled_indices)\n",
        "    return shuffled_x, shuffled_y\n",
        "  else:\n",
        "    return data\n",
        "\n",
        "def show_confusion_matrix(validations, predictions):\n",
        "    matrix = metrics.confusion_matrix(validations, predictions, normalize ='true')\n",
        "    plt.figure(figsize=(6, 4))\n",
        "    sns.heatmap(matrix,\n",
        "                cmap='coolwarm',\n",
        "                linecolor='white',\n",
        "                linewidths=1,\n",
        "                xticklabels=LABELS,\n",
        "                yticklabels=LABELS,\n",
        "                annot=True)\n",
        "    plt.title('Confusion Matrix')\n",
        "    plt.ylabel('True Label')\n",
        "    plt.xlabel('Predicted Label')\n",
        "    plt.show()\n",
        "\n",
        "def show_training(history):\n",
        "  # summarize history for accuracy\n",
        "  plt.figure(figsize=(10, 4))\n",
        "  plt.plot(history.history['accuracy'])\n",
        "  plt.plot(history.history['val_accuracy'])\n",
        "  plt.title('model accuracy')\n",
        "  plt.ylabel('accuracy')\n",
        "  plt.xlabel('epoch')\n",
        "  plt.legend(['train', 'test'], loc='upper left')\n",
        "  plt.show()\n",
        "  # summarize history for loss\n",
        "  plt.figure(figsize=(10, 4))\n",
        "  plt.plot(history.history['loss'])\n",
        "  plt.plot(history.history['val_loss'])\n",
        "  plt.title('model loss')\n",
        "  plt.ylabel('loss')\n",
        "  plt.xlabel('epoch')\n",
        "  plt.legend(['train', 'validation'], loc='upper left')\n",
        "  plt.show()\n",
        "\n",
        "def show_model_results(model_to_test, data_to_test, validation):\n",
        "  predictions = model_to_test.predict(data_to_test)\n",
        "  predictions_max = np.argmax(predictions, axis=1)\n",
        "\n",
        "  show_confusion_matrix(validation, predictions_max)\n",
        "  print('------------')\n",
        "  print(classification_report(validation, predictions_max))\n",
        "\n",
        "def train_and_save_model(model_to_train, X_train, y_train, model_name):\n",
        "\n",
        "  callback = tf.keras.callbacks.EarlyStopping(monitor='val_accuracy', patience=3)\n",
        "\n",
        "  # Hyper-parameters\n",
        "  EPOCHS = 50\n",
        "\n",
        "  model_to_train.compile(loss='categorical_crossentropy',\n",
        "              optimizer='adam', \n",
        "              metrics=['accuracy'])\n",
        "  \n",
        "  history = model_to_train.fit(X_train,\n",
        "                  y_train,\n",
        "                  epochs=EPOCHS,\n",
        "                  validation_split=0.2,\n",
        "                  batch_size=32,\n",
        "                  #callbacks=[callback],\n",
        "                  verbose=1)\n",
        "\n",
        "  show_training(history)\n",
        "\n",
        "  filename  = '/content/drive/MyDrive/Documents/Work/UOS Post-Doc/Amputee Posture Classification/models/' + model_name + '.h5'\n",
        "\n",
        "  # save the model\n",
        "  model_to_train.save(filename)"
      ],
      "execution_count": null,
      "outputs": []
    },
    {
      "cell_type": "code",
      "metadata": {
        "colab": {
          "base_uri": "https://localhost:8080/"
        },
        "id": "Z4d_XPIiz6yz",
        "outputId": "0da5a30c-fc55-40b1-cad5-7ed3aa100dc1"
      },
      "source": [
        "!pip install pyyaml h5py\n",
        "import numpy as np\n",
        "import tensorflow as tf\n",
        "print(\"TF version:\", tf.__version__)\n",
        "\n",
        "# Import more tools\n",
        "import matplotlib.pyplot as plt\n",
        "import seaborn as sns\n",
        "from sklearn.model_selection import train_test_split\n",
        "from sklearn.metrics import classification_report\n",
        "import sklearn.metrics as metrics\n",
        "\n",
        "# Check for GPU availability\n",
        "print(\"GPU\", \"available 🤗\" if tf.config.list_physical_devices(\"GPU\") else \"not available 😟\")\n",
        "\n",
        "print('------------')\n",
        "\n",
        "from tensorflow.python.client import device_lib\n",
        "device_lib.list_local_devices()"
      ],
      "execution_count": null,
      "outputs": [
        {
          "output_type": "stream",
          "text": [
            "Requirement already satisfied: pyyaml in /usr/local/lib/python3.7/dist-packages (3.13)\n",
            "Requirement already satisfied: h5py in /usr/local/lib/python3.7/dist-packages (2.10.0)\n",
            "Requirement already satisfied: six in /usr/local/lib/python3.7/dist-packages (from h5py) (1.15.0)\n",
            "Requirement already satisfied: numpy>=1.7 in /usr/local/lib/python3.7/dist-packages (from h5py) (1.19.5)\n",
            "TF version: 2.4.1\n",
            "GPU available 🤗\n",
            "------------\n"
          ],
          "name": "stdout"
        },
        {
          "output_type": "execute_result",
          "data": {
            "text/plain": [
              "[name: \"/device:CPU:0\"\n",
              " device_type: \"CPU\"\n",
              " memory_limit: 268435456\n",
              " locality {\n",
              " }\n",
              " incarnation: 5560913155480457682, name: \"/device:GPU:0\"\n",
              " device_type: \"GPU\"\n",
              " memory_limit: 14674281152\n",
              " locality {\n",
              "   bus_id: 1\n",
              "   links {\n",
              "   }\n",
              " }\n",
              " incarnation: 7696497072370694550\n",
              " physical_device_desc: \"device: 0, name: Tesla T4, pci bus id: 0000:00:04.0, compute capability: 7.5\"]"
            ]
          },
          "metadata": {
            "tags": []
          },
          "execution_count": 2
        }
      ]
    },
    {
      "cell_type": "code",
      "metadata": {
        "id": "-UxdiFb_1Xj_",
        "colab": {
          "base_uri": "https://localhost:8080/"
        },
        "outputId": "c23e8bcc-2751-4f62-c188-6e0b4ebc9490"
      },
      "source": [
        "from google.colab import drive\n",
        "drive.mount('/content/drive')\n",
        "\n",
        "engineering_set1 = np.load('/content/drive/MyDrive/Documents/Work/UOS Post-Doc/Amputee Posture Classification/data/1_pure_engineering_set.npy')\n",
        "posture_classes1 = np.load('/content/drive/MyDrive/Documents/Work/UOS Post-Doc/Amputee Posture Classification/data/1_pure_engineering_set_classes.npy')\n",
        "engineering_set2 = np.load('/content/drive/MyDrive/Documents/Work/UOS Post-Doc/Amputee Posture Classification/data/2_pure_engineering_set.npy')\n",
        "posture_classes2 = np.load('/content/drive/MyDrive/Documents/Work/UOS Post-Doc/Amputee Posture Classification/data/2_pure_engineering_set_classes.npy')\n",
        "engineering_set3 = np.load('/content/drive/MyDrive/Documents/Work/UOS Post-Doc/Amputee Posture Classification/data/3_pure_engineering_set.npy')\n",
        "posture_classes3 = np.load('/content/drive/MyDrive/Documents/Work/UOS Post-Doc/Amputee Posture Classification/data/3_pure_engineering_set_classes.npy')"
      ],
      "execution_count": null,
      "outputs": [
        {
          "output_type": "stream",
          "text": [
            "Drive already mounted at /content/drive; to attempt to forcibly remount, call drive.mount(\"/content/drive\", force_remount=True).\n"
          ],
          "name": "stdout"
        }
      ]
    },
    {
      "cell_type": "code",
      "metadata": {
        "id": "m0IstaLc38jZ"
      },
      "source": [
        "engineering_set = np.concatenate((engineering_set1, engineering_set2, engineering_set3), axis=0)\n",
        "posture_classes = np.concatenate((posture_classes1, posture_classes2, posture_classes3), axis=0)"
      ],
      "execution_count": null,
      "outputs": []
    },
    {
      "cell_type": "code",
      "metadata": {
        "colab": {
          "base_uri": "https://localhost:8080/"
        },
        "id": "ZbkP4GoqBLSh",
        "outputId": "7df4247b-27bc-4ad5-bf29-a136c200e158"
      },
      "source": [
        "# Main Processing\n",
        "posture_classes = reassign_classes(posture_classes)\n",
        "engineering_set, posture_classes = remove_classes(engineering_set, posture_classes, 4)\n",
        "\n",
        "X_train, X_test, y_train, y_test = train_test_split(engineering_set, posture_classes, test_size=0.2, random_state=42)\n",
        "\n",
        "y_train_hot = one_hot_data(y_train)\n",
        "y_test_hot = one_hot_data(y_test)\n",
        "\n",
        "#X_train_shuffled, y_train_hot_shuffled = process_epochs(X_train, y_train_hot, shuffle=True)\n",
        "#X_test_shuffled, y_test_hot_shuffled = process_epochs(X_test, y_test_hot, shuffle=True)\n",
        "\n",
        "X_train_reshaped = reshape_set(X_train, [1,295,3])\n",
        "X_test_reshaped = reshape_set(X_test, [1,295,3])\n",
        "\n",
        "X_train = process_epochs(X_train)\n",
        "X_test = process_epochs(X_test)\n",
        "X_train_reshaped = process_epochs(X_train_reshaped)\n",
        "X_test_reshaped = process_epochs(X_test_reshaped)\n",
        "\n"
      ],
      "execution_count": null,
      "outputs": [
        {
          "output_type": "stream",
          "text": [
            "Creating training data...\n",
            "Creating training data...\n",
            "Creating training data...\n",
            "Creating training data...\n"
          ],
          "name": "stdout"
        }
      ]
    },
    {
      "cell_type": "code",
      "metadata": {
        "colab": {
          "base_uri": "https://localhost:8080/"
        },
        "id": "F-Dwa4XHxRU9",
        "outputId": "fcd67b64-d058-45db-a562-78fb871a737a"
      },
      "source": [
        "LABELS = ['Sedentary', 'Standing', 'Stepping', 'Lying']\n",
        "\n",
        "unique_classes_train, unique_classes_test = review_class_imbalance(y_train, y_test, LABELS)\n",
        "\n",
        "INPUT_SHAPE = X_train.shape[1:]\n",
        "print('input shape:', INPUT_SHAPE)\n",
        "\n",
        "INPUT_SHAPE_RESHAPED = X_train_reshaped.shape[1:]\n",
        "print('input shape reshaped:', INPUT_SHAPE_RESHAPED)\n",
        "\n",
        "OUTPUT_SHAPE = len(unique_classes_train)\n",
        "print('output shape:', OUTPUT_SHAPE)"
      ],
      "execution_count": null,
      "outputs": [
        {
          "output_type": "stream",
          "text": [
            "Train Classes\n",
            "{'Sedentary': 54798, 'Standing': 35903, 'Stepping': 11478, 'Lying': 54909}\n",
            "--------------\n",
            "Test Classes\n",
            "{'Sedentary': 13744, 'Standing': 8982, 'Stepping': 2876, 'Lying': 13670}\n",
            "--------------\n",
            "input shape: (295, 3)\n",
            "input shape reshaped: (1, 295, 3)\n",
            "output shape: 4\n"
          ],
          "name": "stdout"
        }
      ]
    },
    {
      "cell_type": "code",
      "metadata": {
        "id": "er296jErtzEe"
      },
      "source": [
        "# My Experiments\n",
        "\n",
        "# Model - DNN\n",
        "dnn_model = tf.keras.Sequential([\n",
        "                                 tf.keras.Input(shape=INPUT_SHAPE_RESHAPED),\n",
        "                                 tf.keras.layers.Dense(100, activation='relu'),\n",
        "                                 tf.keras.layers.Dense(100, activation='relu'),\n",
        "                                 tf.keras.layers.Dense(100, activation='relu'),\n",
        "                                 tf.keras.layers.Flatten(),\n",
        "                                 tf.keras.layers.Dense(OUTPUT_SHAPE, activation='softmax')],\n",
        "                                 name='DNN-Model')\n",
        "\n",
        "# Model - CNN\n",
        "cnn_model = tf.keras.Sequential([\n",
        "                             tf.keras.layers.Conv2D(32, kernel_size = (1, 12),\n",
        "                                                    strides = (1, 1),\n",
        "                                                    input_shape=INPUT_SHAPE_RESHAPED,\n",
        "                                                    padding=\"valid\"),\n",
        "                             tf.keras.layers.MaxPooling2D((1,4), (1, 2)),\n",
        "                             tf.keras.layers.Conv2D(64, kernel_size = (1, 4),\n",
        "                                                    strides = (1, 1),\n",
        "                                                    input_shape = (1, 295, 3),\n",
        "                                                    padding=\"valid\"),\n",
        "                             tf.keras.layers.MaxPooling2D((1,4), (1, 2)),\n",
        "                             tf.keras.layers.Flatten(),\n",
        "                             tf.keras.layers.Dense(128, activation='relu'),\n",
        "                             tf.keras.layers.Dense(OUTPUT_SHAPE, activation='softmax')],\n",
        "                             name='CNN-Model')\n",
        "\n",
        "# Model - LSTM\n",
        "lstm_model = tf.keras.Sequential([\n",
        "                              tf.keras.layers.LSTM(128, input_shape=INPUT_SHAPE),\n",
        "                              tf.keras.layers.Dense(100, activation='relu'),\n",
        "                              tf.keras.layers.Dense(OUTPUT_SHAPE, activation='softmax')],\n",
        "                              name='LSTM-Model')\n",
        "\n",
        "# Model - GRU (this model has already been trained and saved)\n",
        "gru_model = tf.keras.Sequential([\n",
        "                              tf.keras.Input(shape=INPUT_SHAPE),\n",
        "                              tf.keras.layers.GRU(256, return_sequences=True),\n",
        "                              tf.keras.layers.SimpleRNN(128),\n",
        "                              tf.keras.layers.Dense(100, activation='relu'),\n",
        "                              tf.keras.layers.Dense(OUTPUT_SHAPE, activation='softmax')],\n",
        "                              name='GRU-Model')\n",
        "\n",
        "print(dnn_model.summary())\n",
        "print(cnn_model.summary())\n",
        "print(lstm_model.summary())\n",
        "print(gru_model.summary())"
      ],
      "execution_count": null,
      "outputs": []
    },
    {
      "cell_type": "code",
      "metadata": {
        "id": "g6UqXEvvSqtI"
      },
      "source": [
        "# Training and saving the models\n",
        "#train_and_save_model(dnn_model, X_train_reshaped, y_train_hot, 'dnn_model')\n",
        "#train_and_save_model(cnn_model, X_train_reshaped, y_train_hot, 'cnn_model')\n",
        "#train_and_save_model(lstm_model, X_train, y_train_hot, 'lstm_model')\n",
        "#train_and_save_model(gru_model, X_train, y_train_hot, 'rnn_model4')"
      ],
      "execution_count": null,
      "outputs": []
    },
    {
      "cell_type": "code",
      "metadata": {
        "colab": {
          "base_uri": "https://localhost:8080/",
          "height": 1000
        },
        "id": "fhOd7xMn0Mqn",
        "outputId": "d709539e-ea4c-4836-f4cb-d15bb54e37dd"
      },
      "source": [
        "valid = np.argmax(y_test_hot, axis=1)\n",
        "\n",
        "# ---------- DNN Model ----------\n",
        "# Recreate the exact same model, including its weights and the optimizer\n",
        "dnn_model_loaded = tf.keras.models.load_model('/content/drive/MyDrive/Documents/Work/UOS Post-Doc/Amputee Posture Classification/models/dnn_model.h5')\n",
        "# Show the model architecture\n",
        "dnn_model_loaded.summary()\n",
        "# Show results\n",
        "show_model_results(dnn_model_loaded, X_test_reshaped, valid)\n",
        "\n",
        "print('------------------------------------------------------------------------------------------------')\n",
        "\n",
        "# ---------- CNN Model ----------\n",
        "# Recreate the exact same model, including its weights and the optimizer\n",
        "cnn_model_loaded = tf.keras.models.load_model('/content/drive/MyDrive/Documents/Work/UOS Post-Doc/Amputee Posture Classification/models/cnn_model.h5')\n",
        "# Show the model architecture\n",
        "cnn_model_loaded.summary()\n",
        "# Show results\n",
        "show_model_results(cnn_model_loaded, X_test_reshaped, valid)\n",
        "\n",
        "print('------------------------------------------------------------------------------------------------')\n",
        "\n",
        "# ---------- LSTM Model ----------\n",
        "# Recreate the exact same model, including its weights and the optimizer\n",
        "lstm_model_loaded = tf.keras.models.load_model('/content/drive/MyDrive/Documents/Work/UOS Post-Doc/Amputee Posture Classification/models/lstm_model.h5')\n",
        "# Show the model architecture\n",
        "lstm_model_loaded.summary()\n",
        "# Show results\n",
        "show_model_results(lstm_model_loaded, X_test, valid)\n",
        "\n",
        "print('------------------------------------------------------------------------------------------------')\n",
        "\n",
        "# ---------- GRU Model ----------\n",
        "# Recreate the exact same model, including its weights and the optimizer\n",
        "gru_model_loaded = tf.keras.models.load_model('/content/drive/MyDrive/Documents/Work/UOS Post-Doc/Amputee Posture Classification/models/rnn_model.h5')\n",
        "# Show the model architecture\n",
        "gru_model_loaded.summary()\n",
        "# Show results\n",
        "show_model_results(gru_model_loaded, X_test, valid)"
      ],
      "execution_count": null,
      "outputs": [
        {
          "output_type": "stream",
          "text": [
            "Model: \"DNN-Model\"\n",
            "_________________________________________________________________\n",
            "Layer (type)                 Output Shape              Param #   \n",
            "=================================================================\n",
            "dense_20 (Dense)             (None, 1, 295, 100)       400       \n",
            "_________________________________________________________________\n",
            "dense_21 (Dense)             (None, 1, 295, 100)       10100     \n",
            "_________________________________________________________________\n",
            "dense_22 (Dense)             (None, 1, 295, 100)       10100     \n",
            "_________________________________________________________________\n",
            "flatten_4 (Flatten)          (None, 29500)             0         \n",
            "_________________________________________________________________\n",
            "dense_23 (Dense)             (None, 4)                 118004    \n",
            "=================================================================\n",
            "Total params: 138,604\n",
            "Trainable params: 138,604\n",
            "Non-trainable params: 0\n",
            "_________________________________________________________________\n"
          ],
          "name": "stdout"
        },
        {
          "output_type": "display_data",
          "data": {
            "image/png": "[encoded data removed]",
            "text/plain": [
              "<Figure size 432x288 with 2 Axes>"
            ]
          },
          "metadata": {
            "tags": [],
            "needs_background": "light"
          }
        },
        {
          "output_type": "stream",
          "text": [
            "------------\n",
            "              precision    recall  f1-score   support\n",
            "\n",
            "           0       0.88      0.75      0.81     13744\n",
            "           1       0.76      0.86      0.81      8982\n",
            "           2       0.91      0.89      0.90      2876\n",
            "           3       0.91      0.98      0.94     13670\n",
            "\n",
            "    accuracy                           0.86     39272\n",
            "   macro avg       0.87      0.87      0.87     39272\n",
            "weighted avg       0.87      0.86      0.86     39272\n",
            "\n",
            "------------------------------------------------------------------------------------------------\n",
            "Model: \"CNN-Model\"\n",
            "_________________________________________________________________\n",
            "Layer (type)                 Output Shape              Param #   \n",
            "=================================================================\n",
            "conv2d_4 (Conv2D)            (None, 1, 284, 32)        1184      \n",
            "_________________________________________________________________\n",
            "max_pooling2d_4 (MaxPooling2 (None, 1, 141, 32)        0         \n",
            "_________________________________________________________________\n",
            "conv2d_5 (Conv2D)            (None, 1, 138, 64)        8256      \n",
            "_________________________________________________________________\n",
            "max_pooling2d_5 (MaxPooling2 (None, 1, 68, 64)         0         \n",
            "_________________________________________________________________\n",
            "flatten_5 (Flatten)          (None, 4352)              0         \n",
            "_________________________________________________________________\n",
            "dense_24 (Dense)             (None, 128)               557184    \n",
            "_________________________________________________________________\n",
            "dense_25 (Dense)             (None, 4)                 516       \n",
            "=================================================================\n",
            "Total params: 567,140\n",
            "Trainable params: 567,140\n",
            "Non-trainable params: 0\n",
            "_________________________________________________________________\n"
          ],
          "name": "stdout"
        },
        {
          "output_type": "display_data",
          "data": {
            "image/png": "[encoded data removed]",
            "text/plain": [
              "<Figure size 432x288 with 2 Axes>"
            ]
          },
          "metadata": {
            "tags": [],
            "needs_background": "light"
          }
        },
        {
          "output_type": "stream",
          "text": [
            "------------\n",
            "              precision    recall  f1-score   support\n",
            "\n",
            "           0       0.77      0.82      0.79     13744\n",
            "           1       0.81      0.82      0.82      8982\n",
            "           2       0.93      0.89      0.91      2876\n",
            "           3       0.92      0.85      0.89     13670\n",
            "\n",
            "    accuracy                           0.84     39272\n",
            "   macro avg       0.86      0.85      0.85     39272\n",
            "weighted avg       0.84      0.84      0.84     39272\n",
            "\n",
            "------------------------------------------------------------------------------------------------\n",
            "Model: \"LSTM-Model\"\n",
            "_________________________________________________________________\n",
            "Layer (type)                 Output Shape              Param #   \n",
            "=================================================================\n",
            "lstm_2 (LSTM)                (None, 128)               67584     \n",
            "_________________________________________________________________\n",
            "dense_26 (Dense)             (None, 100)               12900     \n",
            "_________________________________________________________________\n",
            "dense_27 (Dense)             (None, 4)                 404       \n",
            "=================================================================\n",
            "Total params: 80,888\n",
            "Trainable params: 80,888\n",
            "Non-trainable params: 0\n",
            "_________________________________________________________________\n"
          ],
          "name": "stdout"
        },
        {
          "output_type": "display_data",
          "data": {
            "image/png": "[encoded data removed]",
            "text/plain": [
              "<Figure size 432x288 with 2 Axes>"
            ]
          },
          "metadata": {
            "tags": [],
            "needs_background": "light"
          }
        },
        {
          "output_type": "stream",
          "text": [
            "------------\n",
            "              precision    recall  f1-score   support\n",
            "\n",
            "           0       0.86      0.82      0.84     13744\n",
            "           1       0.83      0.83      0.83      8982\n",
            "           2       0.95      0.91      0.93      2876\n",
            "           3       0.92      0.97      0.94     13670\n",
            "\n",
            "    accuracy                           0.88     39272\n",
            "   macro avg       0.89      0.88      0.88     39272\n",
            "weighted avg       0.88      0.88      0.88     39272\n",
            "\n",
            "------------------------------------------------------------------------------------------------\n",
            "Model: \"sequential\"\n",
            "_________________________________________________________________\n",
            "Layer (type)                 Output Shape              Param #   \n",
            "=================================================================\n",
            "gru (GRU)                    (None, 295, 256)          200448    \n",
            "_________________________________________________________________\n",
            "simple_rnn (SimpleRNN)       (None, 128)               49280     \n",
            "_________________________________________________________________\n",
            "dense (Dense)                (None, 100)               12900     \n",
            "_________________________________________________________________\n",
            "dense_1 (Dense)              (None, 4)                 404       \n",
            "=================================================================\n",
            "Total params: 263,032\n",
            "Trainable params: 263,032\n",
            "Non-trainable params: 0\n",
            "_________________________________________________________________\n"
          ],
          "name": "stdout"
        },
        {
          "output_type": "display_data",
          "data": {
            "image/png": "[encoded data removed]",
            "text/plain": [
              "<Figure size 432x288 with 2 Axes>"
            ]
          },
          "metadata": {
            "tags": [],
            "needs_background": "light"
          }
        },
        {
          "output_type": "stream",
          "text": [
            "------------\n",
            "              precision    recall  f1-score   support\n",
            "\n",
            "           0       0.88      0.80      0.84     13744\n",
            "           1       0.81      0.87      0.84      8982\n",
            "           2       0.91      0.92      0.92      2876\n",
            "           3       0.92      0.96      0.94     13670\n",
            "\n",
            "    accuracy                           0.88     39272\n",
            "   macro avg       0.88      0.89      0.88     39272\n",
            "weighted avg       0.88      0.88      0.88     39272\n",
            "\n"
          ],
          "name": "stdout"
        }
      ]
    }
  ]
}